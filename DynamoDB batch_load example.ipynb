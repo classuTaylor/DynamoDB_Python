{
 "cells": [
  {
   "cell_type": "code",
   "execution_count": 1,
   "id": "507a7012",
   "metadata": {},
   "outputs": [
    {
     "name": "stdout",
     "output_type": "stream",
     "text": [
      "[{'updated_at': Decimal('1673500667425'), 'profile_image': 'https://picsum.photos/200', 'user_id': 'Ruben', 'profile_border_color': '', 'grade': Decimal('1'), 'created_at': Decimal('1673500667425'), 'nickname': '1yfgvyhvrtyvyurt', 'partition_key': 'class@1', 'total_badge_count': Decimal('0'), 'sort_key': 'user#user@Ruben', 'class_id': '1'}, {'updated_at': Decimal('1673498279907'), 'profile_image': 'https://picsum.photos/200', 'user_id': '3', 'profile_border_color': '', 'grade': Decimal('1'), 'created_at': Decimal('1673498279907'), 'nickname': 'ruben', 'partition_key': 'class@1', 'total_badge_count': Decimal('0'), 'sort_key': 'user#user@3', 'class_id': '1'}, {'updated_at': Decimal('1673499929954'), 'profile_image': 'https://picsum.photos/200', 'user_id': '777', 'profile_border_color': '', 'grade': Decimal('1'), 'created_at': Decimal('1673499929954'), 'nickname': 'kkk2', 'partition_key': 'class@1', 'total_badge_count': Decimal('0'), 'sort_key': 'user#user@777', 'class_id': '1'}, {'created_at': Decimal('1673449949505'), 'grade': Decimal('1'), 'partition_key': 'class@1', 'sort_key': 'user#user@1234799', 'class_id': '1', 'main_badge_url': 'https://classu-files.s3.ap-northeast-2.amazonaws.com/badge/badge_a.png', 'updated_at': Decimal('1673449949505'), 'profile_image': 'https://picsum.photos/200', 'profile_border_color': 'blue', 'user_id': '1234799', 'nickname': 'hi', 'total_badge_count': Decimal('0')}, {'updated_at': Decimal('1673839359248'), 'profile_image': 'https://picsum.photos/200', 'user_id': 'chad', 'profile_border_color': '', 'grade': Decimal('3'), 'created_at': Decimal('1673839359248'), 'nickname': 'chad', 'partition_key': 'class@1', 'total_badge_count': Decimal('0'), 'sort_key': 'user#user@chad', 'class_id': '1'}, {'grade': Decimal('1'), 'created_at': Decimal('1674614135888'), 'partition_key': 'class@1', 'sort_key': 'user#user@1', 'class_id': '1', 'main_badge_url': 'https://classu-files.s3.ap-northeast-2.amazonaws.com/badge/badge_a.png', 'updated_at': Decimal('1674614135888'), 'profile_image': 'https://picsum.photos/200', 'user_id': '1', 'profile_border_color': 'symbol_purple', 'nickname': '1', 'total_badge_count': Decimal('0')}, {'updated_at': Decimal('1673509070462'), 'profile_image': 'https://picsum.photos/200', 'profile_border_color': '', 'user_id': '2', 'created_at': Decimal('1673509070462'), 'grade': Decimal('1'), 'nickname': '1', 'partition_key': 'class@1', 'total_badge_count': Decimal('0'), 'sort_key': 'user#user@2', 'class_id': '1'}]\n"
     ]
    }
   ],
   "source": [
    "import boto3\n",
    "from botocore.exceptions import ClientError\n",
    "\n",
    "dyn_resource = boto3.resource('dynamodb')\n",
    "\n",
    "class_user_table = dyn_resource.Table(\"class_user-dev_cta_20221225-classu_ted\")\n",
    "\n",
    "# 하나의 테이블에서 한번에 여러개의 get_item 하는 코드\n",
    "# batch_get_item은 최대 16MB, 100개의 항목에 대해서만 동작하므로 100개씩 나눠서 실행\n",
    "def batch_load(class_id, user_id_list):\n",
    "    class_user_list = []\n",
    "    \n",
    "    if not user_id_list:\n",
    "        return class_user_list\n",
    "    \n",
    "    chunked_list = [ user_id_list[i:i+100] for i in range(0, len(user_id_list), 100) ]\n",
    "    \n",
    "    for i in chunked_list:\n",
    "        class_user_list += batch_100_load(class_id, i)\n",
    "        \n",
    "    return class_user_list\n",
    "\n",
    "\n",
    "def batch_100_load(class_id, user_id_list):\n",
    "    batch_keys = {\n",
    "        class_user_table.name: {\n",
    "            \"Keys\": [ { \"partition_key\": f\"class@{class_id}\", \"sort_key\": f\"user#user@{i}\" } for i in user_id_list ]\n",
    "        }\n",
    "    }\n",
    "    \n",
    "    try:\n",
    "        retrieved = dyn_resource.batch_get_item(RequestItems=batch_keys)\n",
    "    except ClientError:\n",
    "        raise\n",
    "    else:\n",
    "        return retrieved[\"Responses\"][class_user_table.name]\n",
    "    \n",
    "\n",
    "class_id = \"1\"\n",
    "user_id_list = [\"1\",\"1234799\",\"2\",\"3\",\"777\",\"Ruben\",\"chad\", \"1\"]\n",
    "batch_data = batch_load(class_id, list(set(user_id_list)))\n",
    "\n",
    "print(batch_data)"
   ]
  }
 ],
 "metadata": {
  "kernelspec": {
   "display_name": "Python 3 (ipykernel)",
   "language": "python",
   "name": "python3"
  },
  "language_info": {
   "codemirror_mode": {
    "name": "ipython",
    "version": 3
   },
   "file_extension": ".py",
   "mimetype": "text/x-python",
   "name": "python",
   "nbconvert_exporter": "python",
   "pygments_lexer": "ipython3",
   "version": "3.10.8"
  }
 },
 "nbformat": 4,
 "nbformat_minor": 5
}
