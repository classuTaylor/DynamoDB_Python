{
 "cells": [
  {
   "cell_type": "code",
   "execution_count": 52,
   "id": "534c046d",
   "metadata": {},
   "outputs": [],
   "source": [
    "import boto3\n",
    "from boto3.dynamodb.conditions import Key, Attr"
   ]
  },
  {
   "cell_type": "code",
   "execution_count": 53,
   "id": "6067448b",
   "metadata": {},
   "outputs": [],
   "source": [
    "# Table load\n",
    "dyn_resource = boto3.resource('dynamodb')\n",
    "table = dyn_resource.Table(\"channel-dev_cta_20221225-classu_ted\")\n",
    "# table.load()"
   ]
  },
  {
   "cell_type": "code",
   "execution_count": 54,
   "id": "e8f6c328",
   "metadata": {},
   "outputs": [
    {
     "name": "stdout",
     "output_type": "stream",
     "text": [
      "{'Item': {'channel_name': 'asffsa', 'created_at': Decimal('1673864211960'), 'sk_channel_channel_type': 'ACTIVE#LECTURE', 'partition_key': 'channel@110d2ac9-24ec-43b4-96af-c8668e24cd2f', 'status': 'ACTIVE', 'sort_key': 'channel', 'class_id': '1', 'channel_order': Decimal('69'), 'channel_desc': 'fasafs', 'updated_at': Decimal('1673864211960'), 'sk_channel_channel_name': 'ACTIVE#asffsa', 'channel_group_id': 'f936b4b2-bae4-46ae-b3d1-5fb6eb7aaac4', 'sk_channel_channel_order': 'ACTIVE#0069', 'detail_channel_type': 'LECTURE', 'channel_id': '110d2ac9-24ec-43b4-96af-c8668e24cd2f', 'hide_yn': 'Y', 'certi_yn': 'N', 'channel_type': 'LECTURE', 'deletable_channel_yn': 'Y', 'registered_at': Decimal('1673864210805'), 'channel_icon': '🇦🇶'}, 'ResponseMetadata': {'RequestId': '8T63HP9E3NSHGCFKVNQ24EA34NVV4KQNSO5AEMVJF66Q9ASUAAJG', 'HTTPStatusCode': 200, 'HTTPHeaders': {'server': 'Server', 'date': 'Mon, 30 Jan 2023 06:10:18 GMT', 'content-type': 'application/x-amz-json-1.0', 'content-length': '787', 'connection': 'keep-alive', 'x-amzn-requestid': '8T63HP9E3NSHGCFKVNQ24EA34NVV4KQNSO5AEMVJF66Q9ASUAAJG', 'x-amz-crc32': '583237069'}, 'RetryAttempts': 0}}\n"
     ]
    }
   ],
   "source": [
    "# 단건 조회 (get_item)\n",
    "# {\"Key\": {partition key attribute name: value, sort key attribute name: value}}\n",
    "\n",
    "get_item_result = table.get_item(Key={\n",
    "    \"partition_key\":\"channel@110d2ac9-24ec-43b4-96af-c8668e24cd2f\",\n",
    "    \"sort_key\":\"channel\"\n",
    "})\n",
    "print(get_item_result)"
   ]
  },
  {
   "cell_type": "code",
   "execution_count": 55,
   "id": "536a18c0",
   "metadata": {},
   "outputs": [],
   "source": [
    "dyn_resource = boto3.resource('dynamodb')\n",
    "table = dyn_resource.Table(\"post-dev_cta_20221225-classu_ted\")\n",
    "table.load()"
   ]
  },
  {
   "cell_type": "code",
   "execution_count": 56,
   "id": "62eb79cd",
   "metadata": {},
   "outputs": [
    {
     "name": "stdout",
     "output_type": "stream",
     "text": [
      "{'Items': [{'post_name': '웃음참기 챌린지 #1', 'like_count': Decimal('0'), 'mission_contents': '제일 웃겼던 웃음소리 모먼트를 영상에서 캡처해서 올려주세요', 'view_count': Decimal('1141'), 'status': 'ACTIVE', 'class_id': '2', 'thumbnail_file_info_list': [{'file_url': 'https://thumb.midibus.kinxcdn.com/346/185a81b997baa872.png', 'file_type': 'IMAGE'}], 'channel_id': '600fa200-4090-44a6-94b9-6a9c7da92568', 'hide_yn': 'N', 'sk_post_registered_at': 'ACTIVE#1673601307029', 'sk_post_level_point': 'ACTIVE#0#0', 'open_yn': 'Y', 'created_at': Decimal('1673601307048'), 'sk_post_post_order': 'ACTIVE#0001', 'partition_key': 'post@f906533a-4e1f-4589-845b-1cc7e9222463', 'sk_post_level_registered_at': 'ACTIVE#0#1673601307029', 'contents': '웃음참기 챌린지 #1', 'sort_key': 'post', 'post_order': Decimal('1'), 'delete_yn': 'N', 'updated_at': Decimal('1673601307048'), 'mission_media_file_info_list': [{'file_url': 'https://classu-files.s3.ap-northeast-2.amazonaws.com/dummy/userafd43c37-e290-4b43-a616-2b5d973ea689+(2).png', 'file_type': 'IMAGE'}], 'channel_group_id': 'a8bee030-f405-4ed7-b61c-1b2f73046aea', 'user_id': 'ted', 'post_type': 'lecture', 'level': Decimal('0'), 'post_id': 'f906533a-4e1f-4589-845b-1cc7e9222463', 'reply_post_count': Decimal('0'), 'point': Decimal('0'), 'registered_at': Decimal('1673601307029'), 'sk_post_post_name': 'ACTIVE#웃음참기 챌린지 #1', 'video_file_info_list': [{'file_url': 'https://hls.midibus.kinxcdn.com/hls/ch_16ad3a60/185a027acd6dee96/v/playlist.m3u8', 'running_time': '00:04:04', 'file_type': 'VIDEO'}]}, {'post_name': '웃음참기 챌린지 #2', 'like_count': Decimal('0'), 'mission_contents': '평소에 좋아하는 밈을 올려주세요', 'view_count': Decimal('0'), 'status': 'ACTIVE', 'class_id': '2', 'thumbnail_file_info_list': [{'file_url': 'https://thumb.midibus.kinxcdn.com/346/185a31baa1bb73e9.png', 'file_type': 'IMAGE'}], 'channel_id': '600fa200-4090-44a6-94b9-6a9c7da92568', 'hide_yn': 'N', 'sk_post_registered_at': 'ACTIVE#1673601307335', 'sk_post_level_point': 'ACTIVE#0#0', 'open_yn': 'Y', 'created_at': Decimal('1673601307335'), 'sk_post_post_order': 'ACTIVE#0002', 'partition_key': 'post@59eaea7f-203d-49ff-ab0e-1c4d459d4e09', 'sk_post_level_registered_at': 'ACTIVE#0#1673601307335', 'contents': '웃음참기 챌린지 #2', 'sort_key': 'post', 'post_order': Decimal('2'), 'delete_yn': 'N', 'updated_at': Decimal('1673601307335'), 'mission_media_file_info_list': [{'file_url': 'https://classu-files.s3.ap-northeast-2.amazonaws.com/dummy/userafd43c37-e290-4b43-a616-2b5d973ea689+(2).png', 'file_type': 'IMAGE'}], 'channel_group_id': 'a8bee030-f405-4ed7-b61c-1b2f73046aea', 'user_id': 'ted', 'post_type': 'lecture', 'level': Decimal('0'), 'post_id': '59eaea7f-203d-49ff-ab0e-1c4d459d4e09', 'reply_post_count': Decimal('0'), 'point': Decimal('0'), 'registered_at': Decimal('1673601307335'), 'sk_post_post_name': 'ACTIVE#웃음참기 챌린지 #2', 'video_file_info_list': [{'file_url': 'https://hls.midibus.kinxcdn.com/hls/ch_16ad3a60/185a393ce5b86064/v/playlist.m3u8', 'running_time': '00:10:13', 'file_type': 'VIDEO'}]}, {'post_name': '웃음참기 챌린지 #3', 'like_count': Decimal('0'), 'view_count': Decimal('0'), 'status': 'ACTIVE', 'class_id': '2', 'thumbnail_file_info_list': [{'file_url': 'https://thumb.midibus.kinxcdn.com/346/185a4d45569a5564.png', 'file_type': 'IMAGE'}], 'channel_id': '600fa200-4090-44a6-94b9-6a9c7da92568', 'hide_yn': 'N', 'sk_post_registered_at': 'ACTIVE#1673601307453', 'sk_post_level_point': 'ACTIVE#0#0', 'open_yn': 'Y', 'created_at': Decimal('1673601307453'), 'sk_post_post_order': 'ACTIVE#0003', 'partition_key': 'post@e5e5100d-169e-4136-9af1-8db959aa1147', 'sk_post_level_registered_at': 'ACTIVE#0#1673601307453', 'contents': '웃음참기 챌린지 #3', 'sort_key': 'post', 'post_order': Decimal('3'), 'delete_yn': 'N', 'updated_at': Decimal('1673601307453'), 'channel_group_id': 'a8bee030-f405-4ed7-b61c-1b2f73046aea', 'user_id': 'ted', 'post_type': 'lecture', 'level': Decimal('0'), 'post_id': 'e5e5100d-169e-4136-9af1-8db959aa1147', 'reply_post_count': Decimal('0'), 'point': Decimal('0'), 'registered_at': Decimal('1673601307453'), 'sk_post_post_name': 'ACTIVE#웃음참기 챌린지 #3', 'video_file_info_list': [{'file_url': 'https://hls.midibus.kinxcdn.com/hls/ch_16ad3a60/185a3aeaff41953b/v/playlist.m3u8', 'running_time': '00:09:45', 'file_type': 'VIDEO'}]}, {'post_name': '웃음참기 챌린지 #4', 'like_count': Decimal('0'), 'mission_contents': '가장 처음으로 웃음을 참지 못한 구간을 캡처해서 올려주세요!', 'view_count': Decimal('0'), 'status': 'ACTIVE', 'class_id': '2', 'thumbnail_file_info_list': [{'file_url': 'https://thumb.midibus.kinxcdn.com/346/185aa34ccea3e7e6.png', 'file_type': 'IMAGE'}], 'channel_id': '600fa200-4090-44a6-94b9-6a9c7da92568', 'hide_yn': 'N', 'sk_post_registered_at': 'ACTIVE#1673601307540', 'sk_post_level_point': 'ACTIVE#0#0', 'open_yn': 'Y', 'created_at': Decimal('1673601307540'), 'sk_post_post_order': 'ACTIVE#0004', 'partition_key': 'post@27da8f14-90a2-429a-85b5-e9a2245d04fb', 'sk_post_level_registered_at': 'ACTIVE#0#1673601307540', 'contents': '웃음참기 챌린지 #4', 'sort_key': 'post', 'post_order': Decimal('4'), 'delete_yn': 'N', 'updated_at': Decimal('1673601307540'), 'mission_media_file_info_list': [{'file_url': 'https://classu-files.s3.ap-northeast-2.amazonaws.com/dummy/userafd43c37-e290-4b43-a616-2b5d973ea689+(2).png', 'file_type': 'IMAGE'}], 'channel_group_id': 'a8bee030-f405-4ed7-b61c-1b2f73046aea', 'user_id': 'ted', 'post_type': 'lecture', 'level': Decimal('0'), 'post_id': '27da8f14-90a2-429a-85b5-e9a2245d04fb', 'reply_post_count': Decimal('0'), 'point': Decimal('0'), 'registered_at': Decimal('1673601307540'), 'sk_post_post_name': 'ACTIVE#웃음참기 챌린지 #4', 'video_file_info_list': [{'file_url': 'https://hls.midibus.kinxcdn.com/hls/ch_16ad3a60/185a3b4498999cbf/v/playlist.m3u8', 'running_time': '00:06:57', 'file_type': 'VIDEO'}]}, {'post_name': '강의 포스트 2', 'like_count': Decimal('0'), 'mission_contents': 'mission_contents', 'view_count': Decimal('0'), 'status': 'ACTIVE', 'class_id': '2', 'thumbnail_file_info_list': [{'file_url': 'https://classu-files.s3.ap-northeast-2.amazonaws.com/dummy/borko-bojanic-WKxuHl1gg_w-unsplash.jpg', 'file_type': 'IMAGE'}], 'channel_id': '600fa200-4090-44a6-94b9-6a9c7da92568', 'hide_yn': 'N', 'sk_post_registered_at': 'ACTIVE#1673833399312', 'sk_post_level_point': 'ACTIVE#0#0', 'open_yn': 'Y', 'created_at': Decimal('1673833399653'), 'sk_post_post_order': 'ACTIVE#0005', 'partition_key': 'post@c575fe3f-4309-46f3-bf58-c2b0f2602c7a', 'sk_post_level_registered_at': 'ACTIVE#0#1673833399312', 'contents': '이것은 테스트 강의 입니다.', 'sort_key': 'post', 'post_order': Decimal('5'), 'delete_yn': 'N', 'updated_at': Decimal('1673833399653'), 'mission_media_file_info_list': [{'file_url': 'https://classu-files.s3.ap-northeast-2.amazonaws.com/dummy/borko-bojanic-WKxuHl1gg_w-unsplash.jpg', 'file_type': 'IMAGE'}, {'file_url': 'https://classu-files.s3.ap-northeast-2.amazonaws.com/dummy/userafd43c37-e290-4b43-a616-2b5d973ea689+(2).png', 'file_type': 'IMAGE'}, {'file_url': 'https://classu-files.s3.ap-northeast-2.amazonaws.com/dummy/KakaoTalk_Photo_2022-12-31-16-12-13.jpeg', 'file_type': 'IMAGE'}], 'channel_group_id': 'a8bee030-f405-4ed7-b61c-1b2f73046aea', 'user_id': 'ruben', 'post_type': 'lecture', 'level': Decimal('0'), 'post_id': 'c575fe3f-4309-46f3-bf58-c2b0f2602c7a', 'reply_post_count': Decimal('2'), 'point': Decimal('0'), 'registered_at': Decimal('1673833399312'), 'sk_post_post_name': 'ACTIVE#강의 포스트 2', 'video_file_info_list': [{'file_url': 'https://classu-files.s3.ap-northeast-2.amazonaws.com/dummy/file_example_MP4_640_3MG.mp4', 'running_time': '10:00:00', 'file_type': 'VIDEO'}]}, {'post_name': '강의 포스트 1', 'like_count': Decimal('0'), 'mission_contents': 'mission_contents', 'view_count': Decimal('1'), 'status': 'ACTIVE', 'class_id': '2', 'thumbnail_file_info_list': [{'file_url': 'https://classu-files.s3.ap-northeast-2.amazonaws.com/dummy/borko-bojanic-WKxuHl1gg_w-unsplash.jpg', 'file_type': 'IMAGE'}], 'channel_id': '600fa200-4090-44a6-94b9-6a9c7da92568', 'hide_yn': 'N', 'sk_post_registered_at': 'ACTIVE#1673834163669', 'sk_post_level_point': 'ACTIVE#0#0', 'open_yn': 'Y', 'created_at': Decimal('1673834163670'), 'sk_post_post_order': 'ACTIVE#0006', 'partition_key': 'post@11bf94fa-bc00-4879-a32f-36b6cd1c1ad0', 'sk_post_level_registered_at': 'ACTIVE#0#1673834163669', 'contents': '이것은 테스트 강의 입니다.', 'sort_key': 'post', 'post_order': Decimal('6'), 'delete_yn': 'N', 'updated_at': Decimal('1673834163670'), 'mission_media_file_info_list': [{'file_url': 'https://classu-files.s3.ap-northeast-2.amazonaws.com/dummy/borko-bojanic-WKxuHl1gg_w-unsplash.jpg', 'file_type': 'IMAGE'}, {'file_url': 'https://classu-files.s3.ap-northeast-2.amazonaws.com/dummy/userafd43c37-e290-4b43-a616-2b5d973ea689+(2).png', 'file_type': 'IMAGE'}, {'file_url': 'https://classu-files.s3.ap-northeast-2.amazonaws.com/dummy/KakaoTalk_Photo_2022-12-31-16-12-13.jpeg', 'file_type': 'IMAGE'}], 'channel_group_id': 'a8bee030-f405-4ed7-b61c-1b2f73046aea', 'user_id': 'ruben', 'post_type': 'lecture', 'level': Decimal('0'), 'post_id': '11bf94fa-bc00-4879-a32f-36b6cd1c1ad0', 'reply_post_count': Decimal('1'), 'point': Decimal('0'), 'registered_at': Decimal('1673834163669'), 'sk_post_post_name': 'ACTIVE#강의 포스트 1', 'video_file_info_list': [{'file_url': 'https://classu-files.s3.ap-northeast-2.amazonaws.com/dummy/file_example_MP4_640_3MG.mp4', 'running_time': '10:00:00', 'file_type': 'VIDEO'}]}, {'post_name': '강의 포스트 5', 'like_count': Decimal('0'), 'mission_contents': 'mission_contents', 'view_count': Decimal('0'), 'status': 'ACTIVE', 'class_id': '2', 'thumbnail_file_info_list': [{'file_url': 'https://classu-files.s3.ap-northeast-2.amazonaws.com/dummy/borko-bojanic-WKxuHl1gg_w-unsplash.jpg', 'file_type': 'IMAGE'}], 'channel_id': '600fa200-4090-44a6-94b9-6a9c7da92568', 'hide_yn': 'N', 'sk_post_registered_at': 'ACTIVE#1673834625027', 'sk_post_level_point': 'ACTIVE#0#0', 'open_yn': 'Y', 'created_at': Decimal('1673834625356'), 'sk_post_post_order': 'ACTIVE#0007', 'partition_key': 'post@cb21717e-4b70-4fd8-b907-9efb17e2d2c1', 'sk_post_level_registered_at': 'ACTIVE#0#1673834625027', 'contents': '이것은 테스트 강의 입니다.', 'sort_key': 'post', 'post_order': Decimal('7'), 'delete_yn': 'N', 'updated_at': Decimal('1673834625356'), 'mission_media_file_info_list': [{'file_url': 'https://classu-files.s3.ap-northeast-2.amazonaws.com/dummy/borko-bojanic-WKxuHl1gg_w-unsplash.jpg', 'file_type': 'IMAGE'}, {'file_url': 'https://classu-files.s3.ap-northeast-2.amazonaws.com/dummy/userafd43c37-e290-4b43-a616-2b5d973ea689+(2).png', 'file_type': 'IMAGE'}, {'file_url': 'https://classu-files.s3.ap-northeast-2.amazonaws.com/dummy/KakaoTalk_Photo_2022-12-31-16-12-13.jpeg', 'file_type': 'IMAGE'}], 'channel_group_id': 'a8bee030-f405-4ed7-b61c-1b2f73046aea', 'user_id': 'ruben', 'post_type': 'lecture', 'level': Decimal('0'), 'post_id': 'cb21717e-4b70-4fd8-b907-9efb17e2d2c1', 'reply_post_count': Decimal('0'), 'point': Decimal('0'), 'registered_at': Decimal('1673834625027'), 'sk_post_post_name': 'ACTIVE#강의 포스트 5', 'video_file_info_list': [{'file_url': 'https://classu-files.s3.ap-northeast-2.amazonaws.com/dummy/file_example_MP4_640_3MG.mp4', 'running_time': '10:00:00', 'file_type': 'VIDEO'}]}, {'post_name': '1. 강의 제목', 'like_count': Decimal('0'), 'mission_contents': '오늘의 미션입니다.', 'view_count': Decimal('0'), 'status': 'ACTIVE', 'class_id': '2', 'thumbnail_file_info_list': [{'file_url': 'https://classu-files.s3.ap-northeast-2.amazonaws.com/1/58629dea-e329-423f-8202-1ade19c07c28/58629de[…]07c28/49212616-70e3-4d1b-b5fd-d056c3a84020.jpg', 'file_type': 'IMAGE'}], 'channel_id': '600fa200-4090-44a6-94b9-6a9c7da92568', 'hide_yn': 'N', 'sk_post_registered_at': 'ACTIVE#1673931931495', 'sk_post_level_point': 'ACTIVE#0#0', 'open_yn': 'Y', 'created_at': Decimal('1673931931517'), 'sk_post_post_order': 'ACTIVE#0008', 'partition_key': 'post@4ce84165-2629-46e9-992f-e28b82a88d8b', 'sk_post_level_registered_at': 'ACTIVE#0#1673931931495', 'contents': '강의 게시글 입니다.', 'sort_key': 'post', 'post_order': Decimal('8'), 'delete_yn': 'N', 'updated_at': Decimal('1673931931517'), 'mission_media_file_info_list': [{'file_url': 'https://classu-files.s3.ap-northeast-2.amazonaws.com/1/58629dea-e329-423f-8202-1ade19c07c28/58629de[…]07c28/49212616-70e3-4d1b-b5fd-d056c3a84020.jpg', 'file_type': 'IMAGE'}], 'channel_group_id': 'a8bee030-f405-4ed7-b61c-1b2f73046aea', 'user_id': '1', 'post_type': 'lecture', 'level': Decimal('0'), 'post_id': '4ce84165-2629-46e9-992f-e28b82a88d8b', 'reply_post_count': Decimal('0'), 'point': Decimal('0'), 'registered_at': Decimal('1673931931495'), 'sk_post_post_name': 'ACTIVE#1. 강의 제목', 'video_file_info_list': [{'file_url': 'https://hls.midibus.kinxcdn.com/hls/ch_16ad3a60/1836985462c8442b/v/playlist.m3u8', 'running_time': '00:01:00', 'file_type': 'VIDEO'}]}, {'post_name': '2. 강의 제목', 'like_count': Decimal('0'), 'mission_contents': '오늘의 미션입니다.', 'view_count': Decimal('0'), 'status': 'ACTIVE', 'class_id': '2', 'thumbnail_file_info_list': [{'file_url': 'https://classu-files.s3.ap-northeast-2.amazonaws.com/1/58629dea-e329-423f-8202-1ade19c07c28/58629de[…]07c28/49212616-70e3-4d1b-b5fd-d056c3a84020.jpg', 'file_type': 'IMAGE'}], 'channel_id': '600fa200-4090-44a6-94b9-6a9c7da92568', 'hide_yn': 'N', 'sk_post_registered_at': 'ACTIVE#1673931931922', 'sk_post_level_point': 'ACTIVE#0#0', 'open_yn': 'Y', 'created_at': Decimal('1673931931922'), 'sk_post_post_order': 'ACTIVE#0009', 'partition_key': 'post@d20d8c72-dc34-4f7f-965c-b978dfa27527', 'sk_post_level_registered_at': 'ACTIVE#0#1673931931922', 'contents': '강의 게시글 입니다.', 'sort_key': 'post', 'post_order': Decimal('9'), 'delete_yn': 'N', 'updated_at': Decimal('1673931931922'), 'mission_media_file_info_list': [{'file_url': 'https://classu-files.s3.ap-northeast-2.amazonaws.com/1/58629dea-e329-423f-8202-1ade19c07c28/58629de[…]07c28/49212616-70e3-4d1b-b5fd-d056c3a84020.jpg', 'file_type': 'IMAGE'}], 'channel_group_id': 'a8bee030-f405-4ed7-b61c-1b2f73046aea', 'user_id': '1', 'post_type': 'lecture', 'level': Decimal('0'), 'post_id': 'd20d8c72-dc34-4f7f-965c-b978dfa27527', 'reply_post_count': Decimal('0'), 'point': Decimal('0'), 'registered_at': Decimal('1673931931922'), 'sk_post_post_name': 'ACTIVE#2. 강의 제목', 'video_file_info_list': [{'file_url': 'https://hls.midibus.kinxcdn.com/hls/ch_16ad3a60/1836985462c8442b/v/playlist.m3u8', 'running_time': '00:01:00', 'file_type': 'VIDEO'}]}, {'post_name': '3. 강의 제목', 'like_count': Decimal('0'), 'mission_contents': '오늘의 미션입니다.', 'view_count': Decimal('0'), 'status': 'ACTIVE', 'class_id': '2', 'thumbnail_file_info_list': [{'file_url': 'https://classu-files.s3.ap-northeast-2.amazonaws.com/1/58629dea-e329-423f-8202-1ade19c07c28/58629de[…]07c28/49212616-70e3-4d1b-b5fd-d056c3a84020.jpg', 'file_type': 'IMAGE'}], 'channel_id': '600fa200-4090-44a6-94b9-6a9c7da92568', 'hide_yn': 'N', 'sk_post_registered_at': 'ACTIVE#1673931932090', 'sk_post_level_point': 'ACTIVE#0#0', 'open_yn': 'Y', 'created_at': Decimal('1673931932090'), 'sk_post_post_order': 'ACTIVE#0010', 'partition_key': 'post@4e14db3f-b08e-4f0c-a74f-e2c9a19129d1', 'sk_post_level_registered_at': 'ACTIVE#0#1673931932090', 'contents': '강의 게시글 입니다.', 'sort_key': 'post', 'post_order': Decimal('10'), 'delete_yn': 'N', 'updated_at': Decimal('1673931932090'), 'mission_media_file_info_list': [{'file_url': 'https://classu-files.s3.ap-northeast-2.amazonaws.com/1/58629dea-e329-423f-8202-1ade19c07c28/58629de[…]07c28/49212616-70e3-4d1b-b5fd-d056c3a84020.jpg', 'file_type': 'IMAGE'}], 'channel_group_id': 'a8bee030-f405-4ed7-b61c-1b2f73046aea', 'user_id': '1', 'post_type': 'lecture', 'level': Decimal('0'), 'post_id': '4e14db3f-b08e-4f0c-a74f-e2c9a19129d1', 'reply_post_count': Decimal('0'), 'point': Decimal('0'), 'registered_at': Decimal('1673931932090'), 'sk_post_post_name': 'ACTIVE#3. 강의 제목', 'video_file_info_list': [{'file_url': 'https://hls.midibus.kinxcdn.com/hls/ch_16ad3a60/1836985462c8442b/v/playlist.m3u8', 'running_time': '00:01:00', 'file_type': 'VIDEO'}]}, {'post_name': '4. 강의 제목', 'like_count': Decimal('0'), 'mission_contents': '오늘의 미션입니다.', 'view_count': Decimal('0'), 'status': 'ACTIVE', 'class_id': '2', 'thumbnail_file_info_list': [{'file_url': 'https://classu-files.s3.ap-northeast-2.amazonaws.com/1/58629dea-e329-423f-8202-1ade19c07c28/58629de[…]07c28/49212616-70e3-4d1b-b5fd-d056c3a84020.jpg', 'file_type': 'IMAGE'}], 'channel_id': '600fa200-4090-44a6-94b9-6a9c7da92568', 'hide_yn': 'N', 'sk_post_registered_at': 'ACTIVE#1673931932270', 'sk_post_level_point': 'ACTIVE#0#0', 'open_yn': 'Y', 'created_at': Decimal('1673931932270'), 'sk_post_post_order': 'ACTIVE#0011', 'partition_key': 'post@288aa4a1-cbcf-4f86-8e59-f8ee805333cf', 'sk_post_level_registered_at': 'ACTIVE#0#1673931932270', 'contents': '강의 게시글 입니다.', 'sort_key': 'post', 'post_order': Decimal('11'), 'delete_yn': 'N', 'updated_at': Decimal('1673931932270'), 'mission_media_file_info_list': [{'file_url': 'https://classu-files.s3.ap-northeast-2.amazonaws.com/1/58629dea-e329-423f-8202-1ade19c07c28/58629de[…]07c28/49212616-70e3-4d1b-b5fd-d056c3a84020.jpg', 'file_type': 'IMAGE'}], 'channel_group_id': 'a8bee030-f405-4ed7-b61c-1b2f73046aea', 'user_id': '1', 'post_type': 'lecture', 'level': Decimal('0'), 'post_id': '288aa4a1-cbcf-4f86-8e59-f8ee805333cf', 'reply_post_count': Decimal('0'), 'point': Decimal('0'), 'registered_at': Decimal('1673931932270'), 'sk_post_post_name': 'ACTIVE#4. 강의 제목', 'video_file_info_list': [{'file_url': 'https://hls.midibus.kinxcdn.com/hls/ch_16ad3a60/1836985462c8442b/v/playlist.m3u8', 'running_time': '00:01:00', 'file_type': 'VIDEO'}]}, {'post_name': '5. 강의 제목', 'like_count': Decimal('0'), 'mission_contents': '오늘의 미션입니다.', 'view_count': Decimal('1'), 'status': 'ACTIVE', 'class_id': '2', 'thumbnail_file_info_list': [{'file_url': 'https://classu-files.s3.ap-northeast-2.amazonaws.com/1/58629dea-e329-423f-8202-1ade19c07c28/58629de[…]07c28/49212616-70e3-4d1b-b5fd-d056c3a84020.jpg', 'file_type': 'IMAGE'}], 'channel_id': '600fa200-4090-44a6-94b9-6a9c7da92568', 'hide_yn': 'N', 'sk_post_registered_at': 'ACTIVE#1673931932439', 'sk_post_level_point': 'ACTIVE#0#0', 'open_yn': 'Y', 'created_at': Decimal('1673931932440'), 'sk_post_post_order': 'ACTIVE#0012', 'partition_key': 'post@53a4819b-0ed7-41b7-a4b9-1d579862cfb2', 'sk_post_level_registered_at': 'ACTIVE#0#1673931932439', 'contents': '강의 게시글 입니다.', 'sort_key': 'post', 'post_order': Decimal('12'), 'delete_yn': 'N', 'updated_at': Decimal('1673931932440'), 'mission_media_file_info_list': [{'file_url': 'https://classu-files.s3.ap-northeast-2.amazonaws.com/1/58629dea-e329-423f-8202-1ade19c07c28/58629de[…]07c28/49212616-70e3-4d1b-b5fd-d056c3a84020.jpg', 'file_type': 'IMAGE'}], 'channel_group_id': 'a8bee030-f405-4ed7-b61c-1b2f73046aea', 'user_id': '1', 'post_type': 'lecture', 'level': Decimal('0'), 'post_id': '53a4819b-0ed7-41b7-a4b9-1d579862cfb2', 'reply_post_count': Decimal('0'), 'point': Decimal('0'), 'registered_at': Decimal('1673931932439'), 'sk_post_post_name': 'ACTIVE#5. 강의 제목', 'video_file_info_list': [{'file_url': 'https://hls.midibus.kinxcdn.com/hls/ch_16ad3a60/1836985462c8442b/v/playlist.m3u8', 'running_time': '00:01:00', 'file_type': 'VIDEO'}]}], 'Count': 12, 'ScannedCount': 12, 'ResponseMetadata': {'RequestId': 'RNECP2ILISKMA74L1N8PHKG6NBVV4KQNSO5AEMVJF66Q9ASUAAJG', 'HTTPStatusCode': 200, 'HTTPHeaders': {'server': 'Server', 'date': 'Mon, 30 Jan 2023 06:10:20 GMT', 'content-type': 'application/x-amz-json-1.0', 'content-length': '20899', 'connection': 'keep-alive', 'x-amzn-requestid': 'RNECP2ILISKMA74L1N8PHKG6NBVV4KQNSO5AEMVJF66Q9ASUAAJG', 'x-amz-crc32': '2343819401'}, 'RetryAttempts': 0}}\n"
     ]
    }
   ],
   "source": [
    "# 다건 조회 - gsi 이용 (query)\n",
    "# gsi 쓰지 않을 때는 dictionary에서 IndexName 제거,\n",
    "# KeyConditionExpression의 Key는 partition key와 sort key의 attribute name\n",
    "\n",
    "query = {\n",
    "    \"KeyConditionExpression\":\n",
    "        Key(\"channel_id\").eq(\"600fa200-4090-44a6-94b9-6a9c7da92568\") & Key(\"sk_post_post_order\").begins_with(\"ACTIVE\"),\n",
    "    \"IndexName\": \"channel_id-sk_post_post_order-index\"\n",
    "}\n",
    "query_result = table.query(**query)\n",
    "print(query_result)"
   ]
  },
  {
   "cell_type": "code",
   "execution_count": 57,
   "id": "37c2d162",
   "metadata": {},
   "outputs": [
    {
     "name": "stdout",
     "output_type": "stream",
     "text": [
      "{'Items': [{'post_name': '웃음참기 챌린지 #2', 'like_count': Decimal('0'), 'mission_contents': '평소에 좋아하는 밈을 올려주세요', 'view_count': Decimal('0'), 'status': 'ACTIVE', 'class_id': '2', 'thumbnail_file_info_list': [{'file_url': 'https://thumb.midibus.kinxcdn.com/346/185a31baa1bb73e9.png', 'file_type': 'IMAGE'}], 'channel_id': '600fa200-4090-44a6-94b9-6a9c7da92568', 'hide_yn': 'N', 'sk_post_registered_at': 'ACTIVE#1673601307335', 'sk_post_level_point': 'ACTIVE#0#0', 'open_yn': 'Y', 'created_at': Decimal('1673601307335'), 'sk_post_post_order': 'ACTIVE#0002', 'partition_key': 'post@59eaea7f-203d-49ff-ab0e-1c4d459d4e09', 'sk_post_level_registered_at': 'ACTIVE#0#1673601307335', 'contents': '웃음참기 챌린지 #2', 'sort_key': 'post', 'post_order': Decimal('2'), 'delete_yn': 'N', 'updated_at': Decimal('1673601307335'), 'mission_media_file_info_list': [{'file_url': 'https://classu-files.s3.ap-northeast-2.amazonaws.com/dummy/userafd43c37-e290-4b43-a616-2b5d973ea689+(2).png', 'file_type': 'IMAGE'}], 'channel_group_id': 'a8bee030-f405-4ed7-b61c-1b2f73046aea', 'user_id': 'ted', 'post_type': 'lecture', 'level': Decimal('0'), 'post_id': '59eaea7f-203d-49ff-ab0e-1c4d459d4e09', 'reply_post_count': Decimal('0'), 'point': Decimal('0'), 'registered_at': Decimal('1673601307335'), 'sk_post_post_name': 'ACTIVE#웃음참기 챌린지 #2', 'video_file_info_list': [{'file_url': 'https://hls.midibus.kinxcdn.com/hls/ch_16ad3a60/185a393ce5b86064/v/playlist.m3u8', 'running_time': '00:10:13', 'file_type': 'VIDEO'}]}, {'post_name': '웃음참기 챌린지 #3', 'like_count': Decimal('0'), 'view_count': Decimal('0'), 'status': 'ACTIVE', 'class_id': '2', 'thumbnail_file_info_list': [{'file_url': 'https://thumb.midibus.kinxcdn.com/346/185a4d45569a5564.png', 'file_type': 'IMAGE'}], 'channel_id': '600fa200-4090-44a6-94b9-6a9c7da92568', 'hide_yn': 'N', 'sk_post_registered_at': 'ACTIVE#1673601307453', 'sk_post_level_point': 'ACTIVE#0#0', 'open_yn': 'Y', 'created_at': Decimal('1673601307453'), 'sk_post_post_order': 'ACTIVE#0003', 'partition_key': 'post@e5e5100d-169e-4136-9af1-8db959aa1147', 'sk_post_level_registered_at': 'ACTIVE#0#1673601307453', 'contents': '웃음참기 챌린지 #3', 'sort_key': 'post', 'post_order': Decimal('3'), 'delete_yn': 'N', 'updated_at': Decimal('1673601307453'), 'channel_group_id': 'a8bee030-f405-4ed7-b61c-1b2f73046aea', 'user_id': 'ted', 'post_type': 'lecture', 'level': Decimal('0'), 'post_id': 'e5e5100d-169e-4136-9af1-8db959aa1147', 'reply_post_count': Decimal('0'), 'point': Decimal('0'), 'registered_at': Decimal('1673601307453'), 'sk_post_post_name': 'ACTIVE#웃음참기 챌린지 #3', 'video_file_info_list': [{'file_url': 'https://hls.midibus.kinxcdn.com/hls/ch_16ad3a60/185a3aeaff41953b/v/playlist.m3u8', 'running_time': '00:09:45', 'file_type': 'VIDEO'}]}, {'post_name': '웃음참기 챌린지 #4', 'like_count': Decimal('0'), 'mission_contents': '가장 처음으로 웃음을 참지 못한 구간을 캡처해서 올려주세요!', 'view_count': Decimal('0'), 'status': 'ACTIVE', 'class_id': '2', 'thumbnail_file_info_list': [{'file_url': 'https://thumb.midibus.kinxcdn.com/346/185aa34ccea3e7e6.png', 'file_type': 'IMAGE'}], 'channel_id': '600fa200-4090-44a6-94b9-6a9c7da92568', 'hide_yn': 'N', 'sk_post_registered_at': 'ACTIVE#1673601307540', 'sk_post_level_point': 'ACTIVE#0#0', 'open_yn': 'Y', 'created_at': Decimal('1673601307540'), 'sk_post_post_order': 'ACTIVE#0004', 'partition_key': 'post@27da8f14-90a2-429a-85b5-e9a2245d04fb', 'sk_post_level_registered_at': 'ACTIVE#0#1673601307540', 'contents': '웃음참기 챌린지 #4', 'sort_key': 'post', 'post_order': Decimal('4'), 'delete_yn': 'N', 'updated_at': Decimal('1673601307540'), 'mission_media_file_info_list': [{'file_url': 'https://classu-files.s3.ap-northeast-2.amazonaws.com/dummy/userafd43c37-e290-4b43-a616-2b5d973ea689+(2).png', 'file_type': 'IMAGE'}], 'channel_group_id': 'a8bee030-f405-4ed7-b61c-1b2f73046aea', 'user_id': 'ted', 'post_type': 'lecture', 'level': Decimal('0'), 'post_id': '27da8f14-90a2-429a-85b5-e9a2245d04fb', 'reply_post_count': Decimal('0'), 'point': Decimal('0'), 'registered_at': Decimal('1673601307540'), 'sk_post_post_name': 'ACTIVE#웃음참기 챌린지 #4', 'video_file_info_list': [{'file_url': 'https://hls.midibus.kinxcdn.com/hls/ch_16ad3a60/185a3b4498999cbf/v/playlist.m3u8', 'running_time': '00:06:57', 'file_type': 'VIDEO'}]}, {'post_name': '강의 포스트 2', 'like_count': Decimal('0'), 'mission_contents': 'mission_contents', 'view_count': Decimal('0'), 'status': 'ACTIVE', 'class_id': '2', 'thumbnail_file_info_list': [{'file_url': 'https://classu-files.s3.ap-northeast-2.amazonaws.com/dummy/borko-bojanic-WKxuHl1gg_w-unsplash.jpg', 'file_type': 'IMAGE'}], 'channel_id': '600fa200-4090-44a6-94b9-6a9c7da92568', 'hide_yn': 'N', 'sk_post_registered_at': 'ACTIVE#1673833399312', 'sk_post_level_point': 'ACTIVE#0#0', 'open_yn': 'Y', 'created_at': Decimal('1673833399653'), 'sk_post_post_order': 'ACTIVE#0005', 'partition_key': 'post@c575fe3f-4309-46f3-bf58-c2b0f2602c7a', 'sk_post_level_registered_at': 'ACTIVE#0#1673833399312', 'contents': '이것은 테스트 강의 입니다.', 'sort_key': 'post', 'post_order': Decimal('5'), 'delete_yn': 'N', 'updated_at': Decimal('1673833399653'), 'mission_media_file_info_list': [{'file_url': 'https://classu-files.s3.ap-northeast-2.amazonaws.com/dummy/borko-bojanic-WKxuHl1gg_w-unsplash.jpg', 'file_type': 'IMAGE'}, {'file_url': 'https://classu-files.s3.ap-northeast-2.amazonaws.com/dummy/userafd43c37-e290-4b43-a616-2b5d973ea689+(2).png', 'file_type': 'IMAGE'}, {'file_url': 'https://classu-files.s3.ap-northeast-2.amazonaws.com/dummy/KakaoTalk_Photo_2022-12-31-16-12-13.jpeg', 'file_type': 'IMAGE'}], 'channel_group_id': 'a8bee030-f405-4ed7-b61c-1b2f73046aea', 'user_id': 'ruben', 'post_type': 'lecture', 'level': Decimal('0'), 'post_id': 'c575fe3f-4309-46f3-bf58-c2b0f2602c7a', 'reply_post_count': Decimal('2'), 'point': Decimal('0'), 'registered_at': Decimal('1673833399312'), 'sk_post_post_name': 'ACTIVE#강의 포스트 2', 'video_file_info_list': [{'file_url': 'https://classu-files.s3.ap-northeast-2.amazonaws.com/dummy/file_example_MP4_640_3MG.mp4', 'running_time': '10:00:00', 'file_type': 'VIDEO'}]}, {'post_name': '강의 포스트 1', 'like_count': Decimal('0'), 'mission_contents': 'mission_contents', 'view_count': Decimal('1'), 'status': 'ACTIVE', 'class_id': '2', 'thumbnail_file_info_list': [{'file_url': 'https://classu-files.s3.ap-northeast-2.amazonaws.com/dummy/borko-bojanic-WKxuHl1gg_w-unsplash.jpg', 'file_type': 'IMAGE'}], 'channel_id': '600fa200-4090-44a6-94b9-6a9c7da92568', 'hide_yn': 'N', 'sk_post_registered_at': 'ACTIVE#1673834163669', 'sk_post_level_point': 'ACTIVE#0#0', 'open_yn': 'Y', 'created_at': Decimal('1673834163670'), 'sk_post_post_order': 'ACTIVE#0006', 'partition_key': 'post@11bf94fa-bc00-4879-a32f-36b6cd1c1ad0', 'sk_post_level_registered_at': 'ACTIVE#0#1673834163669', 'contents': '이것은 테스트 강의 입니다.', 'sort_key': 'post', 'post_order': Decimal('6'), 'delete_yn': 'N', 'updated_at': Decimal('1673834163670'), 'mission_media_file_info_list': [{'file_url': 'https://classu-files.s3.ap-northeast-2.amazonaws.com/dummy/borko-bojanic-WKxuHl1gg_w-unsplash.jpg', 'file_type': 'IMAGE'}, {'file_url': 'https://classu-files.s3.ap-northeast-2.amazonaws.com/dummy/userafd43c37-e290-4b43-a616-2b5d973ea689+(2).png', 'file_type': 'IMAGE'}, {'file_url': 'https://classu-files.s3.ap-northeast-2.amazonaws.com/dummy/KakaoTalk_Photo_2022-12-31-16-12-13.jpeg', 'file_type': 'IMAGE'}], 'channel_group_id': 'a8bee030-f405-4ed7-b61c-1b2f73046aea', 'user_id': 'ruben', 'post_type': 'lecture', 'level': Decimal('0'), 'post_id': '11bf94fa-bc00-4879-a32f-36b6cd1c1ad0', 'reply_post_count': Decimal('1'), 'point': Decimal('0'), 'registered_at': Decimal('1673834163669'), 'sk_post_post_name': 'ACTIVE#강의 포스트 1', 'video_file_info_list': [{'file_url': 'https://classu-files.s3.ap-northeast-2.amazonaws.com/dummy/file_example_MP4_640_3MG.mp4', 'running_time': '10:00:00', 'file_type': 'VIDEO'}]}, {'post_name': '강의 포스트 5', 'like_count': Decimal('0'), 'mission_contents': 'mission_contents', 'view_count': Decimal('0'), 'status': 'ACTIVE', 'class_id': '2', 'thumbnail_file_info_list': [{'file_url': 'https://classu-files.s3.ap-northeast-2.amazonaws.com/dummy/borko-bojanic-WKxuHl1gg_w-unsplash.jpg', 'file_type': 'IMAGE'}], 'channel_id': '600fa200-4090-44a6-94b9-6a9c7da92568', 'hide_yn': 'N', 'sk_post_registered_at': 'ACTIVE#1673834625027', 'sk_post_level_point': 'ACTIVE#0#0', 'open_yn': 'Y', 'created_at': Decimal('1673834625356'), 'sk_post_post_order': 'ACTIVE#0007', 'partition_key': 'post@cb21717e-4b70-4fd8-b907-9efb17e2d2c1', 'sk_post_level_registered_at': 'ACTIVE#0#1673834625027', 'contents': '이것은 테스트 강의 입니다.', 'sort_key': 'post', 'post_order': Decimal('7'), 'delete_yn': 'N', 'updated_at': Decimal('1673834625356'), 'mission_media_file_info_list': [{'file_url': 'https://classu-files.s3.ap-northeast-2.amazonaws.com/dummy/borko-bojanic-WKxuHl1gg_w-unsplash.jpg', 'file_type': 'IMAGE'}, {'file_url': 'https://classu-files.s3.ap-northeast-2.amazonaws.com/dummy/userafd43c37-e290-4b43-a616-2b5d973ea689+(2).png', 'file_type': 'IMAGE'}, {'file_url': 'https://classu-files.s3.ap-northeast-2.amazonaws.com/dummy/KakaoTalk_Photo_2022-12-31-16-12-13.jpeg', 'file_type': 'IMAGE'}], 'channel_group_id': 'a8bee030-f405-4ed7-b61c-1b2f73046aea', 'user_id': 'ruben', 'post_type': 'lecture', 'level': Decimal('0'), 'post_id': 'cb21717e-4b70-4fd8-b907-9efb17e2d2c1', 'reply_post_count': Decimal('0'), 'point': Decimal('0'), 'registered_at': Decimal('1673834625027'), 'sk_post_post_name': 'ACTIVE#강의 포스트 5', 'video_file_info_list': [{'file_url': 'https://classu-files.s3.ap-northeast-2.amazonaws.com/dummy/file_example_MP4_640_3MG.mp4', 'running_time': '10:00:00', 'file_type': 'VIDEO'}]}, {'post_name': '1. 강의 제목', 'like_count': Decimal('0'), 'mission_contents': '오늘의 미션입니다.', 'view_count': Decimal('0'), 'status': 'ACTIVE', 'class_id': '2', 'thumbnail_file_info_list': [{'file_url': 'https://classu-files.s3.ap-northeast-2.amazonaws.com/1/58629dea-e329-423f-8202-1ade19c07c28/58629de[…]07c28/49212616-70e3-4d1b-b5fd-d056c3a84020.jpg', 'file_type': 'IMAGE'}], 'channel_id': '600fa200-4090-44a6-94b9-6a9c7da92568', 'hide_yn': 'N', 'sk_post_registered_at': 'ACTIVE#1673931931495', 'sk_post_level_point': 'ACTIVE#0#0', 'open_yn': 'Y', 'created_at': Decimal('1673931931517'), 'sk_post_post_order': 'ACTIVE#0008', 'partition_key': 'post@4ce84165-2629-46e9-992f-e28b82a88d8b', 'sk_post_level_registered_at': 'ACTIVE#0#1673931931495', 'contents': '강의 게시글 입니다.', 'sort_key': 'post', 'post_order': Decimal('8'), 'delete_yn': 'N', 'updated_at': Decimal('1673931931517'), 'mission_media_file_info_list': [{'file_url': 'https://classu-files.s3.ap-northeast-2.amazonaws.com/1/58629dea-e329-423f-8202-1ade19c07c28/58629de[…]07c28/49212616-70e3-4d1b-b5fd-d056c3a84020.jpg', 'file_type': 'IMAGE'}], 'channel_group_id': 'a8bee030-f405-4ed7-b61c-1b2f73046aea', 'user_id': '1', 'post_type': 'lecture', 'level': Decimal('0'), 'post_id': '4ce84165-2629-46e9-992f-e28b82a88d8b', 'reply_post_count': Decimal('0'), 'point': Decimal('0'), 'registered_at': Decimal('1673931931495'), 'sk_post_post_name': 'ACTIVE#1. 강의 제목', 'video_file_info_list': [{'file_url': 'https://hls.midibus.kinxcdn.com/hls/ch_16ad3a60/1836985462c8442b/v/playlist.m3u8', 'running_time': '00:01:00', 'file_type': 'VIDEO'}]}, {'post_name': '2. 강의 제목', 'like_count': Decimal('0'), 'mission_contents': '오늘의 미션입니다.', 'view_count': Decimal('0'), 'status': 'ACTIVE', 'class_id': '2', 'thumbnail_file_info_list': [{'file_url': 'https://classu-files.s3.ap-northeast-2.amazonaws.com/1/58629dea-e329-423f-8202-1ade19c07c28/58629de[…]07c28/49212616-70e3-4d1b-b5fd-d056c3a84020.jpg', 'file_type': 'IMAGE'}], 'channel_id': '600fa200-4090-44a6-94b9-6a9c7da92568', 'hide_yn': 'N', 'sk_post_registered_at': 'ACTIVE#1673931931922', 'sk_post_level_point': 'ACTIVE#0#0', 'open_yn': 'Y', 'created_at': Decimal('1673931931922'), 'sk_post_post_order': 'ACTIVE#0009', 'partition_key': 'post@d20d8c72-dc34-4f7f-965c-b978dfa27527', 'sk_post_level_registered_at': 'ACTIVE#0#1673931931922', 'contents': '강의 게시글 입니다.', 'sort_key': 'post', 'post_order': Decimal('9'), 'delete_yn': 'N', 'updated_at': Decimal('1673931931922'), 'mission_media_file_info_list': [{'file_url': 'https://classu-files.s3.ap-northeast-2.amazonaws.com/1/58629dea-e329-423f-8202-1ade19c07c28/58629de[…]07c28/49212616-70e3-4d1b-b5fd-d056c3a84020.jpg', 'file_type': 'IMAGE'}], 'channel_group_id': 'a8bee030-f405-4ed7-b61c-1b2f73046aea', 'user_id': '1', 'post_type': 'lecture', 'level': Decimal('0'), 'post_id': 'd20d8c72-dc34-4f7f-965c-b978dfa27527', 'reply_post_count': Decimal('0'), 'point': Decimal('0'), 'registered_at': Decimal('1673931931922'), 'sk_post_post_name': 'ACTIVE#2. 강의 제목', 'video_file_info_list': [{'file_url': 'https://hls.midibus.kinxcdn.com/hls/ch_16ad3a60/1836985462c8442b/v/playlist.m3u8', 'running_time': '00:01:00', 'file_type': 'VIDEO'}]}, {'post_name': '3. 강의 제목', 'like_count': Decimal('0'), 'mission_contents': '오늘의 미션입니다.', 'view_count': Decimal('0'), 'status': 'ACTIVE', 'class_id': '2', 'thumbnail_file_info_list': [{'file_url': 'https://classu-files.s3.ap-northeast-2.amazonaws.com/1/58629dea-e329-423f-8202-1ade19c07c28/58629de[…]07c28/49212616-70e3-4d1b-b5fd-d056c3a84020.jpg', 'file_type': 'IMAGE'}], 'channel_id': '600fa200-4090-44a6-94b9-6a9c7da92568', 'hide_yn': 'N', 'sk_post_registered_at': 'ACTIVE#1673931932090', 'sk_post_level_point': 'ACTIVE#0#0', 'open_yn': 'Y', 'created_at': Decimal('1673931932090'), 'sk_post_post_order': 'ACTIVE#0010', 'partition_key': 'post@4e14db3f-b08e-4f0c-a74f-e2c9a19129d1', 'sk_post_level_registered_at': 'ACTIVE#0#1673931932090', 'contents': '강의 게시글 입니다.', 'sort_key': 'post', 'post_order': Decimal('10'), 'delete_yn': 'N', 'updated_at': Decimal('1673931932090'), 'mission_media_file_info_list': [{'file_url': 'https://classu-files.s3.ap-northeast-2.amazonaws.com/1/58629dea-e329-423f-8202-1ade19c07c28/58629de[…]07c28/49212616-70e3-4d1b-b5fd-d056c3a84020.jpg', 'file_type': 'IMAGE'}], 'channel_group_id': 'a8bee030-f405-4ed7-b61c-1b2f73046aea', 'user_id': '1', 'post_type': 'lecture', 'level': Decimal('0'), 'post_id': '4e14db3f-b08e-4f0c-a74f-e2c9a19129d1', 'reply_post_count': Decimal('0'), 'point': Decimal('0'), 'registered_at': Decimal('1673931932090'), 'sk_post_post_name': 'ACTIVE#3. 강의 제목', 'video_file_info_list': [{'file_url': 'https://hls.midibus.kinxcdn.com/hls/ch_16ad3a60/1836985462c8442b/v/playlist.m3u8', 'running_time': '00:01:00', 'file_type': 'VIDEO'}]}, {'post_name': '4. 강의 제목', 'like_count': Decimal('0'), 'mission_contents': '오늘의 미션입니다.', 'view_count': Decimal('0'), 'status': 'ACTIVE', 'class_id': '2', 'thumbnail_file_info_list': [{'file_url': 'https://classu-files.s3.ap-northeast-2.amazonaws.com/1/58629dea-e329-423f-8202-1ade19c07c28/58629de[…]07c28/49212616-70e3-4d1b-b5fd-d056c3a84020.jpg', 'file_type': 'IMAGE'}], 'channel_id': '600fa200-4090-44a6-94b9-6a9c7da92568', 'hide_yn': 'N', 'sk_post_registered_at': 'ACTIVE#1673931932270', 'sk_post_level_point': 'ACTIVE#0#0', 'open_yn': 'Y', 'created_at': Decimal('1673931932270'), 'sk_post_post_order': 'ACTIVE#0011', 'partition_key': 'post@288aa4a1-cbcf-4f86-8e59-f8ee805333cf', 'sk_post_level_registered_at': 'ACTIVE#0#1673931932270', 'contents': '강의 게시글 입니다.', 'sort_key': 'post', 'post_order': Decimal('11'), 'delete_yn': 'N', 'updated_at': Decimal('1673931932270'), 'mission_media_file_info_list': [{'file_url': 'https://classu-files.s3.ap-northeast-2.amazonaws.com/1/58629dea-e329-423f-8202-1ade19c07c28/58629de[…]07c28/49212616-70e3-4d1b-b5fd-d056c3a84020.jpg', 'file_type': 'IMAGE'}], 'channel_group_id': 'a8bee030-f405-4ed7-b61c-1b2f73046aea', 'user_id': '1', 'post_type': 'lecture', 'level': Decimal('0'), 'post_id': '288aa4a1-cbcf-4f86-8e59-f8ee805333cf', 'reply_post_count': Decimal('0'), 'point': Decimal('0'), 'registered_at': Decimal('1673931932270'), 'sk_post_post_name': 'ACTIVE#4. 강의 제목', 'video_file_info_list': [{'file_url': 'https://hls.midibus.kinxcdn.com/hls/ch_16ad3a60/1836985462c8442b/v/playlist.m3u8', 'running_time': '00:01:00', 'file_type': 'VIDEO'}]}, {'post_name': '5. 강의 제목', 'like_count': Decimal('0'), 'mission_contents': '오늘의 미션입니다.', 'view_count': Decimal('1'), 'status': 'ACTIVE', 'class_id': '2', 'thumbnail_file_info_list': [{'file_url': 'https://classu-files.s3.ap-northeast-2.amazonaws.com/1/58629dea-e329-423f-8202-1ade19c07c28/58629de[…]07c28/49212616-70e3-4d1b-b5fd-d056c3a84020.jpg', 'file_type': 'IMAGE'}], 'channel_id': '600fa200-4090-44a6-94b9-6a9c7da92568', 'hide_yn': 'N', 'sk_post_registered_at': 'ACTIVE#1673931932439', 'sk_post_level_point': 'ACTIVE#0#0', 'open_yn': 'Y', 'created_at': Decimal('1673931932440'), 'sk_post_post_order': 'ACTIVE#0012', 'partition_key': 'post@53a4819b-0ed7-41b7-a4b9-1d579862cfb2', 'sk_post_level_registered_at': 'ACTIVE#0#1673931932439', 'contents': '강의 게시글 입니다.', 'sort_key': 'post', 'post_order': Decimal('12'), 'delete_yn': 'N', 'updated_at': Decimal('1673931932440'), 'mission_media_file_info_list': [{'file_url': 'https://classu-files.s3.ap-northeast-2.amazonaws.com/1/58629dea-e329-423f-8202-1ade19c07c28/58629de[…]07c28/49212616-70e3-4d1b-b5fd-d056c3a84020.jpg', 'file_type': 'IMAGE'}], 'channel_group_id': 'a8bee030-f405-4ed7-b61c-1b2f73046aea', 'user_id': '1', 'post_type': 'lecture', 'level': Decimal('0'), 'post_id': '53a4819b-0ed7-41b7-a4b9-1d579862cfb2', 'reply_post_count': Decimal('0'), 'point': Decimal('0'), 'registered_at': Decimal('1673931932439'), 'sk_post_post_name': 'ACTIVE#5. 강의 제목', 'video_file_info_list': [{'file_url': 'https://hls.midibus.kinxcdn.com/hls/ch_16ad3a60/1836985462c8442b/v/playlist.m3u8', 'running_time': '00:01:00', 'file_type': 'VIDEO'}]}], 'Count': 11, 'ScannedCount': 12, 'ResponseMetadata': {'RequestId': 'B24VBUFQ77PJ8O5JJAKF3FJV37VV4KQNSO5AEMVJF66Q9ASUAAJG', 'HTTPStatusCode': 200, 'HTTPHeaders': {'server': 'Server', 'date': 'Mon, 30 Jan 2023 06:10:28 GMT', 'content-type': 'application/x-amz-json-1.0', 'content-length': '19224', 'connection': 'keep-alive', 'x-amzn-requestid': 'B24VBUFQ77PJ8O5JJAKF3FJV37VV4KQNSO5AEMVJF66Q9ASUAAJG', 'x-amz-crc32': '2901637346'}, 'RetryAttempts': 0}}\n"
     ]
    }
   ],
   "source": [
    "import boto3\n",
    "from boto3.dynamodb.conditions import Key, Attr\n",
    "\n",
    "dyn_resource = boto3.resource('dynamodb')\n",
    "table = dyn_resource.Table(\"post-dev_cta_20221225-classu_ted\")\n",
    "table.load()\n",
    "\n",
    "\n",
    "# filter expression을 사용한 query\n",
    "query = {\n",
    "    \"KeyConditionExpression\":\n",
    "        Key(\"channel_id\").eq(\"600fa200-4090-44a6-94b9-6a9c7da92568\") & Key(\"sk_post_post_order\").begins_with(\"ACTIVE\"),\n",
    "    \"IndexName\": \"channel_id-sk_post_post_order-index\",\n",
    "    \"FilterExpression\": Attr(\"post_name\").ne(\"웃음참기 챌린지 #1\")\n",
    "    }\n",
    "print(table.query(**query))"
   ]
  },
  {
   "cell_type": "code",
   "execution_count": 61,
   "id": "6f842247",
   "metadata": {},
   "outputs": [
    {
     "name": "stdout",
     "output_type": "stream",
     "text": [
      "{'ResponseMetadata': {'RequestId': 'EB3B7M1VKENOP5DUMF1CDS7B17VV4KQNSO5AEMVJF66Q9ASUAAJG', 'HTTPStatusCode': 200, 'HTTPHeaders': {'server': 'Server', 'date': 'Mon, 30 Jan 2023 06:12:23 GMT', 'content-type': 'application/x-amz-json-1.0', 'content-length': '2', 'connection': 'keep-alive', 'x-amzn-requestid': 'EB3B7M1VKENOP5DUMF1CDS7B17VV4KQNSO5AEMVJF66Q9ASUAAJG', 'x-amz-crc32': '2745614147'}, 'RetryAttempts': 0}}\n"
     ]
    }
   ],
   "source": [
    "# 조회 결과가 없을 때 (다건 조회)\n",
    "\n",
    "get_item_result = table.get_item(Key={\n",
    "    \"partition_key\":\"not exist\",\n",
    "    \"sort_key\":\"not exist\"\n",
    "})\n",
    "print(get_item_result)\n",
    "\n",
    "# get_item의 결과에 Item이 없음\n",
    "# get_item_result[\"Item\"] -> key error\n",
    "# 따라서 get_item을 할 때는 [\"Item\"]이 아니라 get(\"Item\", None) 등으로 데이터에 접근해야 함"
   ]
  },
  {
   "cell_type": "code",
   "execution_count": 62,
   "id": "1bbf8a43",
   "metadata": {
    "scrolled": true
   },
   "outputs": [
    {
     "ename": "KeyError",
     "evalue": "'Item'",
     "output_type": "error",
     "traceback": [
      "\u001b[0;31m---------------------------------------------------------------------------\u001b[0m",
      "\u001b[0;31mKeyError\u001b[0m                                  Traceback (most recent call last)",
      "Cell \u001b[0;32mIn [62], line 1\u001b[0m\n\u001b[0;32m----> 1\u001b[0m get_item_result[\u001b[38;5;124m\"\u001b[39m\u001b[38;5;124mItem\u001b[39m\u001b[38;5;124m\"\u001b[39m]\n",
      "\u001b[0;31mKeyError\u001b[0m: 'Item'"
     ]
    }
   ],
   "source": [
    "get_item_result[\"Item\"]"
   ]
  },
  {
   "cell_type": "code",
   "execution_count": 64,
   "id": "389422cf",
   "metadata": {},
   "outputs": [
    {
     "name": "stdout",
     "output_type": "stream",
     "text": [
      "None\n"
     ]
    }
   ],
   "source": [
    "print(get_item_result.get(\"Item\", None))"
   ]
  },
  {
   "cell_type": "code",
   "execution_count": 60,
   "id": "6efa4890",
   "metadata": {},
   "outputs": [
    {
     "name": "stdout",
     "output_type": "stream",
     "text": [
      "{'Items': [], 'Count': 0, 'ScannedCount': 0, 'ResponseMetadata': {'RequestId': 'I12I7HSMEIQ894TTLCOSBV7L9JVV4KQNSO5AEMVJF66Q9ASUAAJG', 'HTTPStatusCode': 200, 'HTTPHeaders': {'server': 'Server', 'date': 'Mon, 30 Jan 2023 06:11:20 GMT', 'content-type': 'application/x-amz-json-1.0', 'content-length': '39', 'connection': 'keep-alive', 'x-amzn-requestid': 'I12I7HSMEIQ894TTLCOSBV7L9JVV4KQNSO5AEMVJF66Q9ASUAAJG', 'x-amz-crc32': '3413411624'}, 'RetryAttempts': 0}}\n"
     ]
    }
   ],
   "source": [
    "# 조회 결과가 없을 때 (다건 조회)\n",
    "\n",
    "query = {\n",
    "    \"KeyConditionExpression\":\n",
    "        Key(\"partition_key\").eq(\"not exist\") & Key(\"sort_key\").begins_with(\"not exist\")\n",
    "}\n",
    "query_result = table.query(**query)\n",
    "print(query_result)\n",
    "\n",
    "# query의 결과에 Itmes 존재\n",
    "# query[\"Items\"] -> 빈 리스트 []"
   ]
  },
  {
   "cell_type": "code",
   "execution_count": 65,
   "id": "1473483a",
   "metadata": {},
   "outputs": [
    {
     "name": "stdout",
     "output_type": "stream",
     "text": [
      "[]\n"
     ]
    }
   ],
   "source": [
    "print(query_result[\"Items\"])"
   ]
  }
 ],
 "metadata": {
  "kernelspec": {
   "display_name": "Python 3 (ipykernel)",
   "language": "python",
   "name": "python3"
  },
  "language_info": {
   "codemirror_mode": {
    "name": "ipython",
    "version": 3
   },
   "file_extension": ".py",
   "mimetype": "text/x-python",
   "name": "python",
   "nbconvert_exporter": "python",
   "pygments_lexer": "ipython3",
   "version": "3.10.8"
  }
 },
 "nbformat": 4,
 "nbformat_minor": 5
}
